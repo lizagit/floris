{
 "cells": [
  {
   "attachments": {},
   "cell_type": "markdown",
   "metadata": {},
   "source": [
    "# Tuning Empirical Gaussian FLORIS Model to SCADA Using Interpolation and Mathematical Optimization\n",
    "\n",
    "In this notebook, the Empirical Gaussian FLORIS Model (emgauss) will be tuned to align with SCADA data using an interpolation/mathematical optimization technique that determines the parameter value(s) that minimize the error (mean squared error) between SCADA and FLORIS energy ratios. \n",
    "\n",
    "The parameters of interest in this tuning exercise are 'wake_expansion_rates' (1st expansion rate) and 'horizontal_deflection_gain_D'. These parameters are associated with the following operating scenarios:\n",
    "\n",
    "wake_expansion_rates => basline case\n",
    "\n",
    "horizontal_deflection_gain_D => wake steering case"
   ]
  },
  {
   "attachments": {},
   "cell_type": "markdown",
   "metadata": {},
   "source": [
    "## Import Relevant Libraries"
   ]
  },
  {
   "cell_type": "code",
   "execution_count": null,
   "metadata": {},
   "outputs": [],
   "source": [
    "import os\n",
    "import numpy as np\n",
    "import pandas as pd\n",
    "import matplotlib.pyplot as plt\n",
    "\n",
    "from pathlib import Path\n",
    "\n",
    "from floris.tools import FlorisInterface\n",
    "\n",
    "from flasc.model_estimation.floris_tuner import FlorisTuner\n",
    "from flasc.visualization import plot_floris_layout, plot_layout_only, plot_layout_with_waking_directions, plot_binned_mean_and_ci\n"
   ]
  },
  {
   "cell_type": "code",
   "execution_count": null,
   "metadata": {},
   "outputs": [],
   "source": [
    "# Suppress warnings\n",
    "import warnings\n",
    "\n",
    "warnings.filterwarnings('ignore')"
   ]
  },
  {
   "attachments": {},
   "cell_type": "markdown",
   "metadata": {},
   "source": [
    "## Load and Inspect SCADA\n",
    "\n",
    "Load pre-processed SCADA data with power curve fiiltering and northing calibration applied, and inspect the data."
   ]
  },
  {
   "cell_type": "code",
   "execution_count": null,
   "metadata": {},
   "outputs": [],
   "source": [
    "def load_scada(scada_path: str):\n",
    "    \"\"\"\n",
    "    Load SCADA\n",
    "\n",
    "    Args:\n",
    "        scada_path (:py:obj:`str`): Path to load SCADA from.\n",
    "\n",
    "    Returns:\n",
    "        df_scada (:py:obj:`pd.DataFrame`): SCADA data.\n",
    "    \"\"\"\n",
    "    \n",
    "    df_scada = pd.read_feather(scada_path)\n",
    "\n",
    "    # If 'downsample' is True, downsample SCADA data to [x] minute averages to speed things up\n",
    "    # if downsample:\n",
    "    #     cols_angular = [c for c in df_scada if ((\"wd_\" in c) or (\"yaw_\" in c))]\n",
    "    #     df_scada = fto.df_downsample(\n",
    "    #         df_scada,\n",
    "    #         cols_angular=cols_angular,\n",
    "    #         window_width=td(seconds=600),\n",
    "    #     )\n",
    "\n",
    "    return df_scada"
   ]
  },
  {
   "cell_type": "code",
   "execution_count": null,
   "metadata": {},
   "outputs": [],
   "source": [
    "# Specify SCADA file path and load the dataframe\n",
    "scada_path = os.path.join(Path.cwd(), \"postprocessed\", \"df_scada_data_60s_filtered_and_northing_calibrated.ftr\")\n",
    "df_scada = load_scada(scada_path=scada_path)"
   ]
  },
  {
   "cell_type": "code",
   "execution_count": null,
   "metadata": {},
   "outputs": [],
   "source": [
    "# Preview SCADA\n",
    "df_scada.describe()"
   ]
  },
  {
   "cell_type": "code",
   "execution_count": null,
   "metadata": {},
   "outputs": [],
   "source": [
    "df_scada.head()"
   ]
  },
  {
   "cell_type": "code",
   "execution_count": null,
   "metadata": {},
   "outputs": [],
   "source": [
    "df_scada.columns"
   ]
  },
  {
   "attachments": {},
   "cell_type": "markdown",
   "metadata": {},
   "source": [
    "# Evaluate Offsets (Wake Steering Case)\n",
    "\n",
    "Compare the targeted offsets against what was achieved (as measured by the vane on the steering turbine SMV6 (index=5))"
   ]
  },
  {
   "cell_type": "code",
   "execution_count": null,
   "metadata": {},
   "outputs": [],
   "source": [
    "# Specify offsets\n",
    "start_of_offset = 200 # deg\n",
    "end_of_offset = 240 # deg"
   ]
  },
  {
   "cell_type": "code",
   "execution_count": null,
   "metadata": {},
   "outputs": [],
   "source": [
    "# Add a rounded ws column\n",
    "df_scada = df_scada.assign(\n",
    "    ws_round = df_scada.ws_005.round(),\n",
    "    wd_to_plot = df_scada.wd_005\n",
    " )\n",
    "\n",
    "# Limit to a few wind speeds for plotting\n",
    "wind_speeds_to_plot = [6,8,10,12]\n",
    "df_plot = df_scada[df_scada.ws_round.isin(wind_speeds_to_plot)]\n",
    "\n",
    "# Melt together targeted and achieved \n",
    "df_plot = (df_plot\n",
    "    [['wd_to_plot','ws_round','target_yaw_offset_005','wind_vane_005','control_mode']]\n",
    "    # .melt(id_vars=['wd_round','ws_round','control_mode'],\n",
    "    #       var_name='offset_type',\n",
    "    #       value_name='offset_value')\n",
    "    .sort_values(['wd_to_plot','ws_round'])\n",
    ")\n",
    "\n",
    "# Set up binning plots\n",
    "x_edges = np.arange(start_of_offset - 20, end_of_offset + 20, 2)\n",
    "\n",
    "fig, axarr = plt.subplots(len(wind_speeds_to_plot),2, figsize=(10,10))\n",
    "print(wind_speeds_to_plot)\n",
    "for ws_idx, ws in enumerate(wind_speeds_to_plot):\n",
    "    print(f\"wind speeds: {ws_idx}, {ws}\")\n",
    "    for c_idx, control_mode in enumerate(['baseline','controlled']):\n",
    "        print(f\"control mode: {c_idx}, {control_mode}\")\n",
    "        ax = axarr[ws_idx, c_idx]\n",
    "        print(f\"ax: {ax}\")\n",
    "        df_sub = df_plot[(df_plot.ws_round==ws) & (df_plot.control_mode==control_mode)]\n",
    "\n",
    "        plot_binned_mean_and_ci(df_sub.wd_to_plot,\n",
    "                                df_sub.target_yaw_offset_005,\n",
    "                                color='k',\n",
    "                                x_edges=x_edges,\n",
    "                                label='Targetted Offset',\n",
    "                                ax=ax)\n",
    "        \n",
    "        plot_binned_mean_and_ci(df_sub.wd_to_plot,\n",
    "                                df_sub.wind_vane_005,\n",
    "                                color='r',\n",
    "                                x_edges=x_edges,\n",
    "                                label='SMV6 Vane Measurement',\n",
    "                                ax=ax)\n",
    "        \n",
    "        ax.set_xlim([start_of_offset-20,end_of_offset+20])\n",
    "        ax.set_ylim([-30, 50])\n",
    "        ax.grid(True)\n",
    "        ax.axvline(start_of_offset,color='k',ls='--')\n",
    "        ax.axvline(end_of_offset,color='k',ls='--')\n",
    "\n",
    "        if ws_idx == 0:\n",
    "            ax.set_title(f'Control Mode: {control_mode}')\n",
    "\n",
    "        if c_idx == 0:\n",
    "            ax.set_ylabel(f'Wind Speed: {ws} m/s\\nYaw Misalignment (deg)')\n",
    "        else:\n",
    "            ax.set_ylabel('Yaw Misalignment (deg)')\n",
    "\n",
    "        if (ws_idx == 0) and (c_idx == 0):\n",
    "            ax.legend()\n"
   ]
  },
  {
   "cell_type": "code",
   "execution_count": null,
   "metadata": {},
   "outputs": [],
   "source": [
    "# Limit SCADA to this region\n",
    "df_scada = df_scada[(df_scada.wd_smarteole > (start_of_offset - 20)) &\n",
    "                    (df_scada.wd_smarteole < (end_of_offset + 20))]"
   ]
  },
  {
   "attachments": {},
   "cell_type": "markdown",
   "metadata": {},
   "source": [
    "## Prepare SCADA for Computing Energy Ratios (Baseline + Wake Steering Cases)\n",
    "\n",
    "The energy ratio class as presently implemented requires explicit identification of the dataframe of the reference wind direction, wind speed, and power columns: \"wd,\" \"ws,\" and \"pow_ref.\" Here, these will be set equal to the reference variables used in the SMARTEOLE wake steering experiment, which was computed in \"02_download_and_format_dataset.ipynb\"."
   ]
  },
  {
   "cell_type": "code",
   "execution_count": null,
   "metadata": {},
   "outputs": [],
   "source": [
    "# Assign wd, ws and pow ref and subset SCADA based on reference variables used in the SMARTEOLE wake steering experiment (TODO reference the experiment)\n",
    "df_scada = (df_scada\n",
    "    .assign(\n",
    "        wd = lambda df_: df_['wd_smarteole'],\n",
    "        ws = lambda df_: df_['ws_smarteole'],\n",
    "        pow_ref = lambda df_: df_['pow_ref_smarteole']\n",
    "    )\n",
    ")"
   ]
  },
  {
   "cell_type": "code",
   "execution_count": null,
   "metadata": {},
   "outputs": [],
   "source": [
    "# Split SCADA into baseline and wake steeering (controlled)\n",
    "df_scada_baseline = df_scada[df_scada.control_mode=='baseline']\n",
    "df_scada_controlled = df_scada[df_scada.control_mode=='controlled']"
   ]
  },
  {
   "attachments": {},
   "cell_type": "markdown",
   "metadata": {},
   "source": [
    "## Load FLORIS model\n",
    "\n",
    "Specify the path of the Empirical Gaussian FLORIS Model (emgauss) YAML file. Instantiate the FLORIS model using this file. "
   ]
  },
  {
   "cell_type": "code",
   "execution_count": null,
   "metadata": {},
   "outputs": [],
   "source": [
    "# Specify emgauss model\n",
    "wake_model = 'emgauss'\n",
    "\n",
    "# Specify emgauss yaml file\n",
    "yaml = os.path.join('floris_input', 'emgauss.yaml')\n",
    "\n",
    "# Instantiate FLORIS model object using emgauss yaml\n",
    "fi = FlorisInterface(yaml)\n",
    "\n",
    "# Define D\n",
    "D = fi.floris.farm.rotor_diameters[0]"
   ]
  },
  {
   "attachments": {},
   "cell_type": "markdown",
   "metadata": {},
   "source": [
    "## Prepare FLORIS for Tuning (Baseline Case)\n",
    "\n",
    "Using the FlorisTuner class, generate and inspect the associated dataframe for FLORIS that will be used for the energy ratio comparision with SCADA. "
   ]
  },
  {
   "cell_type": "code",
   "execution_count": null,
   "metadata": {},
   "outputs": [],
   "source": [
    "# Instantiate a FLORIS model tuner object\n",
    "floris_tuner_baseline = FlorisTuner(fi=fi,\n",
    "                                    df_scada=df_scada_baseline, \n",
    "                                    num_turbines=7, \n",
    "                                    test_turbines=[4]) "
   ]
  },
  {
   "attachments": {},
   "cell_type": "markdown",
   "metadata": {},
   "source": [
    "## Tune \"wake_expansion_rates\" Using the Interpolation/Mathematical Optimization Technique \n",
    "\n",
    "The parameter of interest in the baseline case is \"wake_expansion_rates\". For now, no breakpoints will be assumed and thus only the 1st wake expansion rate (wake_expansion_rates[0]) will be tuned.\n",
    "\n",
    "This tuning process is comprised of the following steps:\n",
    "1. Specify a discrete range of values (initial YAML to N) to set wake_expansion_rates[0] to.\n",
    "\n",
    "2. Generate the FLORIS energy ratios for this range of wake_expansion_rates[0] and compare to the SCADA energy ratios.\n",
    "\n",
    "3. Calculate the error (mean squared error) between the FLORIS and SCADA energy ratios.\n",
    "\n",
    "4. Interpolate a function to represent the error curve. \n",
    "\n",
    "5. Solve the optimization problem of minimizing the error curve.\n",
    "\n",
    "6. Set wake_expansion_rates[0] equal to the x value of the solution to the optimization problem."
   ]
  },
  {
   "cell_type": "code",
   "execution_count": null,
   "metadata": {},
   "outputs": [],
   "source": [
    "# Specify a range of wake expansion rates (assuming no breakpoints) values\n",
    "wake_expansion_rates = np.linspace(start=0.01, \n",
    "                                   stop=0.2)"
   ]
  },
  {
   "attachments": {},
   "cell_type": "markdown",
   "metadata": {},
   "source": [
    "## Visualize Results\n",
    "\n",
    "Plot the true error, predicted error (error curve), local minimum of the true error and the minimum determined by the optimization solution"
   ]
  },
  {
   "cell_type": "code",
   "execution_count": null,
   "metadata": {},
   "outputs": [],
   "source": [
    "# Determine the optimal value for wake expansion rates\n",
    "fi_baseline_tuned, optimal_wake_expansion_rate, optimal_baseline_err, baseline_err_curve, true_baseline_err = floris_tuner_baseline.tune_floris(case='baseline',\n",
    "                                                                                                                             pow_ref_columns=[0, 1, 2, 6],\n",
    "                                                                                                                             param_name='Wake Expansion Rates',\n",
    "                                                                                                                             param_values=wake_expansion_rates,\n",
    "                                                                                                                             wd_step=2.0,\n",
    "                                                                                                                             ws_step=1.0,\n",
    "                                                                                                                             wd_bin_width=2.0,\n",
    "                                                                                                                             verbose=False,\n",
    "                                                                                                                             plot_err=True,\n",
    "                                                                                                                             plot_energy_ratios=True)  "
   ]
  },
  {
   "attachments": {},
   "cell_type": "markdown",
   "metadata": {},
   "source": [
    "## Prepare FLORIS for Tuning (Wake Steering Case)\n",
    "\n",
    "Using the FlorisTuner class, generate and inspect the associated dataframe for FLORIS that will be used for the energy ratio comparision with SCADA. "
   ]
  },
  {
   "cell_type": "code",
   "execution_count": null,
   "metadata": {},
   "outputs": [],
   "source": [
    "# Instantiate a FLORIS model tuner object\n",
    "floris_tuner_controlled = FlorisTuner(fi=fi,\n",
    "                                      df_scada=df_scada_controlled, \n",
    "                                      num_turbines=7, \n",
    "                                      test_turbines=[5],\n",
    "                                      steered_turbine=5,\n",
    "                                      yaw=df_scada_controlled.target_yaw_offset_005.values) "
   ]
  },
  {
   "attachments": {},
   "cell_type": "markdown",
   "metadata": {},
   "source": [
    "## Tune \"horizontal_deflection_gain_D\" Using the Interpolation/Mathematical Optimization Technique \n",
    "\n",
    "The parameter of interest in the wake steering case is \"horizontal_deflection_gain_D\".\n",
    "\n",
    "This tuning process is comprised of the following steps:\n",
    "\n",
    "1. Specify a discrete range of values (initial YAML to N) to set horizontal_deflection_gain_D to.\n",
    "\n",
    "2. Generate the FLORIS energy ratios for this range of horizontal_deflection_gain_D and compare to the SCADA energy ratios.\n",
    "\n",
    "3. Calculate the error (mean squared error) between the FLORIS and SCADA energy ratios.\n",
    "\n",
    "4. Interpolate a function to represent the error curve. \n",
    "\n",
    "5. Solve the optimization problem of minimizing the error curve.\n",
    "\n",
    "6. Set horizontal_deflection_gain_D equal to the x value of the solution to the optimization problem."
   ]
  },
  {
   "cell_type": "code",
   "execution_count": null,
   "metadata": {},
   "outputs": [],
   "source": [
    "# Specify a range of horizontal deflection values\n",
    "horizontal_deflection_gain_D = np.linspace(start=0.0, \n",
    "                                           stop=2.0)"
   ]
  },
  {
   "attachments": {},
   "cell_type": "markdown",
   "metadata": {},
   "source": [
    "## Visualize Results\n",
    "\n",
    "Plot the true error, predicted error (error curve), local minimum of the true error and the minimum determined by the optimization solution"
   ]
  },
  {
   "cell_type": "code",
   "execution_count": null,
   "metadata": {},
   "outputs": [],
   "source": [
    "# Determine the optimal value for horizontal deflection gain\n",
    "fi_controlled_tuned, optimal_horizontal_deflection_gain_D, optimal_controlled_err, controlled_err_curve, true_controlled_err = floris_tuner_controlled.tune_floris(case='controlled',\n",
    "                                                                                                                                                                   pow_ref_columns=[0, 1, 2, 6],\n",
    "                                                                                                                                                                   param_name='Horizontal Deflection Gain D',\n",
    "                                                                                                                                                                   param_values=horizontal_deflection_gain_D,\n",
    "                                                                                                                                                                   wd_step=2.0,\n",
    "                                                                                                                                                                   ws_step=1.0,\n",
    "                                                                                                                                                                   wd_bin_width=2.0,\n",
    "                                                                                                                                                                   verbose=False,\n",
    "                                                                                                                                                                   plot_err=True,\n",
    "                                                                                                                                                                   plot_energy_ratios=True)  "
   ]
  },
  {
   "attachments": {},
   "cell_type": "markdown",
   "metadata": {},
   "source": [
    "## Save Tuned FLORIS Parameters to a YAML File\n",
    "\n",
    " Output the parameters of the tuned FLORIS models to YAML files for future reference"
   ]
  },
  {
   "cell_type": "code",
   "execution_count": null,
   "metadata": {},
   "outputs": [],
   "source": [
    "# Specify file paths to write the YAML files to\n",
    "baseline_filepath = os.path.join(Path.cwd(), 'floris_input', 'tuned_baseline_emgauss.yaml')\n",
    "controlled_filepath = os.path.join(Path.cwd(), 'floris_input', 'tuned_controlled_emgauss.yaml')"
   ]
  },
  {
   "cell_type": "code",
   "execution_count": null,
   "metadata": {},
   "outputs": [],
   "source": [
    "# Write the YAML files\n",
    "floris_tuner_baseline.write_yaml(baseline_filepath)\n",
    "floris_tuner_controlled.write_yaml(controlled_filepath)"
   ]
  }
 ],
 "metadata": {
  "kernelspec": {
   "display_name": "floris",
   "language": "python",
   "name": "python3"
  },
  "language_info": {
   "codemirror_mode": {
    "name": "ipython",
    "version": 3
   },
   "file_extension": ".py",
   "mimetype": "text/x-python",
   "name": "python",
   "nbconvert_exporter": "python",
   "pygments_lexer": "ipython3",
   "version": "3.11.3"
  },
  "orig_nbformat": 4
 },
 "nbformat": 4,
 "nbformat_minor": 2
}
